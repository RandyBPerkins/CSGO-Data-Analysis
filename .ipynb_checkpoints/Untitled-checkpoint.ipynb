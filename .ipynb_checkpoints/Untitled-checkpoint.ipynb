{
 "cells": [
  {
   "cell_type": "code",
   "execution_count": 6,
   "metadata": {},
   "outputs": [],
   "source": [
    "import requests\n",
    "import pandas as pd"
   ]
  },
  {
   "cell_type": "code",
   "execution_count": 38,
   "metadata": {},
   "outputs": [],
   "source": [
    "api_key = open(\"../key.txt\",\"r\").read()"
   ]
  },
  {
   "cell_type": "code",
   "execution_count": 34,
   "metadata": {},
   "outputs": [],
   "source": [
    "\n",
    "Areas = requests.get(\"https://api.sportsdata.io/v3/csgo/scores/json/Areas\", headers={\"Ocp-Apim-Subscription-Key\":api_key})\n",
    "Competitions = requests.get(\"https://api.sportsdata.io/v3/csgo/scores/json/Competitions\", headers={\"Ocp-Apim-Subscription-Key\":api_key})\n",
    "Memberships = requests.get(\"https://api.sportsdata.io/v3/csgo/scores/json/HistoricalMemberships\", headers={\"Ocp-Apim-Subscription-Key\":api_key})"
   ]
  },
  {
   "cell_type": "code",
   "execution_count": 35,
   "metadata": {},
   "outputs": [
    {
     "name": "stdout",
     "output_type": "stream",
     "text": [
      "      MembershipId     TeamId   PlayerId          PlayerName  \\\n",
      "0        100000824  100000087  100001095  Dauren Kystaubayev   \n",
      "1        100001488  100000141  100001436       Will Merriman   \n",
      "2        100001179  100000081  100001300          Ismail Ali   \n",
      "3        100002507  100000097  100001133      Christophe Xia   \n",
      "4        100003718  100000101  100002350        Caio Fonseca   \n",
      "...            ...        ...        ...                 ...   \n",
      "1006     100002518  100000114  100001145       Michał Rudzki   \n",
      "1007     100004141  100000103  100001323    Nicolai Petersen   \n",
      "1008     100004147  100000246  100002532          Pål Kammen   \n",
      "1009     100003749  100000120  100002370    Callum Henderson   \n",
      "1010     100001144  100000127  100001279         Tarik Celik   \n",
      "\n",
      "              TeamName        TeamArea  Active            StartDate  \\\n",
      "0       Gambit Esports      Kazakhstan   False  2016-07-05T00:00:00   \n",
      "1              Orgles5  United Kingdom   False  2019-01-01T00:00:00   \n",
      "2               Cloud9   United States   False  2018-12-14T00:00:00   \n",
      "3            Team Envy   United States   False  2019-07-08T00:00:00   \n",
      "4         Ghost Gaming   United States   False  2017-08-22T00:00:00   \n",
      "...                ...             ...     ...                  ...   \n",
      "1006               AGO          Poland   False  2019-07-08T00:00:00   \n",
      "1007            Heroic         Denmark   False  2020-04-29T00:00:00   \n",
      "1008       LGB eSports          Norway   False  2015-01-29T00:00:00   \n",
      "1009  Grayhound Gaming       Australia   False  2017-09-12T00:00:00   \n",
      "1010              MIBR          Brazil   False  2018-07-14T00:00:00   \n",
      "\n",
      "                  EndDate              Updated  \n",
      "0     2018-10-15T00:00:00  2019-01-01T10:12:46  \n",
      "1     2020-05-04T00:00:00  2020-05-05T11:32:07  \n",
      "2     2018-12-15T00:00:00  2018-12-16T22:46:25  \n",
      "3     2019-07-08T00:00:00  2019-07-08T20:20:58  \n",
      "4     2017-10-13T00:00:00  2020-04-21T06:28:33  \n",
      "...                   ...                  ...  \n",
      "1006  2018-08-02T00:00:00  2020-04-07T18:35:22  \n",
      "1007  2020-05-12T00:00:00  2020-05-12T08:24:56  \n",
      "1008  2020-05-01T00:00:00  2020-05-03T08:28:02  \n",
      "1009  2018-01-10T00:00:00  2020-04-21T06:29:55  \n",
      "1010  2019-03-10T00:00:00  2019-03-10T22:14:55  \n",
      "\n",
      "[1011 rows x 10 columns]\n"
     ]
    }
   ],
   "source": [
    "\n",
    "\n",
    "j = Memberships.json()\n",
    "\n",
    "df = pd.DataFrame.from_dict(j)\n",
    "\n",
    "print(df)"
   ]
  },
  {
   "cell_type": "code",
   "execution_count": null,
   "metadata": {},
   "outputs": [],
   "source": []
  }
 ],
 "metadata": {
  "kernelspec": {
   "display_name": "Python 3",
   "language": "python",
   "name": "python3"
  },
  "language_info": {
   "codemirror_mode": {
    "name": "ipython",
    "version": 3
   },
   "file_extension": ".py",
   "mimetype": "text/x-python",
   "name": "python",
   "nbconvert_exporter": "python",
   "pygments_lexer": "ipython3",
   "version": "3.6.5"
  }
 },
 "nbformat": 4,
 "nbformat_minor": 4
}

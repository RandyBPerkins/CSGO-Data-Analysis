{
 "cells": [
  {
   "cell_type": "markdown",
   "metadata": {},
   "source": [
    "# Counterstrike Eco Round Win Analysis"
   ]
  },
  {
   "cell_type": "markdown",
   "metadata": {},
   "source": [
    "Randy Perkins<br />\n",
    "CMSC320<br />\n",
    "Final Project<br />\n",
    "May 10 2020"
   ]
  },
  {
   "cell_type": "markdown",
   "metadata": {},
   "source": [
    "## Table of contents\n",
    "* [Introduction](#Intro)\n",
    "\n",
    "* [Data](#Data)\n",
    "* [Exploratory Data Analysis](#Eda)\n",
    "* [Hypothesis Testing](#Hypothesis)\n",
    "* [Regression](#Regression)\n",
    "* [Reflection and concerns about the data](#Reflect)"
   ]
  },
  {
   "cell_type": "markdown",
   "metadata": {},
   "source": [
    "## Introduction <a class=\"anchor\" id=\"Intro\"></a>"
   ]
  },
  {
   "cell_type": "markdown",
   "metadata": {},
   "source": [
    "Counterstrike: Global Offensive (CS:GO) is a 5 vs 5 multiplayer online shooter where there are two teams: terrorists and counter terrorists. The goal of the terrorists are to detonate an explosive device and the goal of the counter terrorists is to stop the terrorists from detonating that device. The terrorists win a round by either eliminating all counter terrorists or successfully planting and detonating the device before a pre set timer runs out. the counter terrorists win a round by either eliminating all terrorists before the device is planted, or defusing the explosive device."
   ]
  },
  {
   "cell_type": "markdown",
   "metadata": {},
   "source": [
    "Counterstrike has this conception of an \"economy\". Every time a player eliminates someone, defuses/plants an explosive device, or wins/loses a round that player gets some amount of credits. Both teams can purchase weapons, armor, utility, and grenades at the beginning of each round with the credits they've accumlated in the rounds prior. "
   ]
  },
  {
   "cell_type": "markdown",
   "metadata": {},
   "source": [
    "Lastly, there is a term nammed \"ECO round\" for when one team loses the previous round and has insuffencient credits to buy approprate weapons. This round is a significant disadvantange for the team on the eco and requires clever tactics to win.\n",
    "\n",
    "In this analysis we will look at the how the use of high explosive grenades in ECO rounds by the on the ECO impact that team's ability to win that round. \n"
   ]
  },
  {
   "cell_type": "markdown",
   "metadata": {},
   "source": [
    "<img src=\"csgo.jpg\">"
   ]
  },
  {
   "cell_type": "markdown",
   "metadata": {},
   "source": [
    "## Data<a class=\"anchor\" id=\"Data\"></a>\n",
    "\n",
    "We begin by importing a Python package to help load and wrangle the data\n",
    "* <a href=\"https://pandas.pydata.org/\"> pandas</a>: an open source data analysis and manipulation tool to view and edit relational data\n"
   ]
  },
  {
   "cell_type": "code",
   "execution_count": 31,
   "metadata": {},
   "outputs": [],
   "source": [
    "import pandas as pd"
   ]
  },
  {
   "cell_type": "markdown",
   "metadata": {},
   "source": [
    "### Counterstrike Data\n",
    "The Counterstrike data is gathered from kaggle, a machine learning and data science community with resources for data science (<a href = \"https://www.kaggle.com/skihikingkevin/csgo-matchmaking-damage\">CS:GO Competitive  Data</a>) </br >\n",
    "\n",
    "The  dataset as well as the grenade damage dataset is displayed in comma-separated values (CSV) format. We will use Pandas `read_csv` function to load these csv files in a workable pandas dataframe and display the dataframe with `head`.\n",
    " "
   ]
  },
  {
   "cell_type": "code",
   "execution_count": 2,
   "metadata": {},
   "outputs": [
    {
     "data": {
      "text/html": [
       "<div>\n",
       "<style scoped>\n",
       "    .dataframe tbody tr th:only-of-type {\n",
       "        vertical-align: middle;\n",
       "    }\n",
       "\n",
       "    .dataframe tbody tr th {\n",
       "        vertical-align: top;\n",
       "    }\n",
       "\n",
       "    .dataframe thead th {\n",
       "        text-align: right;\n",
       "    }\n",
       "</style>\n",
       "<table border=\"1\" class=\"dataframe\">\n",
       "  <thead>\n",
       "    <tr style=\"text-align: right;\">\n",
       "      <th></th>\n",
       "      <th>file</th>\n",
       "      <th>map</th>\n",
       "      <th>round</th>\n",
       "      <th>start_seconds</th>\n",
       "      <th>end_seconds</th>\n",
       "      <th>winner_team</th>\n",
       "      <th>winner_side</th>\n",
       "      <th>round_type</th>\n",
       "      <th>ct_eq_val</th>\n",
       "      <th>t_eq_val</th>\n",
       "    </tr>\n",
       "  </thead>\n",
       "  <tbody>\n",
       "    <tr>\n",
       "      <th>36753</th>\n",
       "      <td>esea_match_13782086.dem</td>\n",
       "      <td>de_mirage</td>\n",
       "      <td>13</td>\n",
       "      <td>1355.7580</td>\n",
       "      <td>1429.0930</td>\n",
       "      <td>Team 1</td>\n",
       "      <td>CounterTerrorist</td>\n",
       "      <td>ECO</td>\n",
       "      <td>25000</td>\n",
       "      <td>1800</td>\n",
       "    </tr>\n",
       "    <tr>\n",
       "      <th>214606</th>\n",
       "      <td>esea_match_13792896.dem</td>\n",
       "      <td>de_cache</td>\n",
       "      <td>20</td>\n",
       "      <td>1756.3170</td>\n",
       "      <td>1871.4550</td>\n",
       "      <td>Team 1</td>\n",
       "      <td>Terrorist</td>\n",
       "      <td>ECO</td>\n",
       "      <td>8950</td>\n",
       "      <td>26250</td>\n",
       "    </tr>\n",
       "    <tr>\n",
       "      <th>154018</th>\n",
       "      <td>esea_match_13789131.dem</td>\n",
       "      <td>de_mirage</td>\n",
       "      <td>13</td>\n",
       "      <td>1060.9200</td>\n",
       "      <td>1127.4580</td>\n",
       "      <td>Team 1</td>\n",
       "      <td>CounterTerrorist</td>\n",
       "      <td>ECO</td>\n",
       "      <td>31800</td>\n",
       "      <td>8400</td>\n",
       "    </tr>\n",
       "    <tr>\n",
       "      <th>69559</th>\n",
       "      <td>esea_match_13784037.dem</td>\n",
       "      <td>de_mirage</td>\n",
       "      <td>20</td>\n",
       "      <td>1807.4200</td>\n",
       "      <td>1923.7490</td>\n",
       "      <td>Team 2</td>\n",
       "      <td>CounterTerrorist</td>\n",
       "      <td>ECO</td>\n",
       "      <td>6550</td>\n",
       "      <td>25350</td>\n",
       "    </tr>\n",
       "    <tr>\n",
       "      <th>138302</th>\n",
       "      <td>esea_match_13788163.dem</td>\n",
       "      <td>de_mirage</td>\n",
       "      <td>9</td>\n",
       "      <td>839.4225</td>\n",
       "      <td>940.8306</td>\n",
       "      <td>Team 2</td>\n",
       "      <td>Terrorist</td>\n",
       "      <td>NORMAL</td>\n",
       "      <td>25500</td>\n",
       "      <td>22700</td>\n",
       "    </tr>\n",
       "  </tbody>\n",
       "</table>\n",
       "</div>"
      ],
      "text/plain": [
       "                           file        map  round  start_seconds  end_seconds  \\\n",
       "36753   esea_match_13782086.dem  de_mirage     13      1355.7580    1429.0930   \n",
       "214606  esea_match_13792896.dem   de_cache     20      1756.3170    1871.4550   \n",
       "154018  esea_match_13789131.dem  de_mirage     13      1060.9200    1127.4580   \n",
       "69559   esea_match_13784037.dem  de_mirage     20      1807.4200    1923.7490   \n",
       "138302  esea_match_13788163.dem  de_mirage      9       839.4225     940.8306   \n",
       "\n",
       "       winner_team       winner_side round_type  ct_eq_val  t_eq_val  \n",
       "36753       Team 1  CounterTerrorist        ECO      25000      1800  \n",
       "214606      Team 1         Terrorist        ECO       8950     26250  \n",
       "154018      Team 1  CounterTerrorist        ECO      31800      8400  \n",
       "69559       Team 2  CounterTerrorist        ECO       6550     25350  \n",
       "138302      Team 2         Terrorist     NORMAL      25500     22700  "
      ]
     },
     "execution_count": 2,
     "metadata": {},
     "output_type": "execute_result"
    }
   ],
   "source": [
    "demos_part_1 = pd.read_csv(\"../esea_meta_demos.part1.csv\")\n",
    "demos_part_2 = pd.read_csv(\"../esea_meta_demos.part2.csv\")\n",
    "grenades = pd.read_csv(\"../esea_master_grenades_demos_p1.csv\", nrows=100000) # reading 100,000 entries\n",
    "demos_part_1.sample(n=100).head()"
   ]
  },
  {
   "cell_type": "markdown",
   "metadata": {},
   "source": [
    "demos_part_2 is an extention of demos_part_1, so we want to combine both of the dataframes with pandas `concat` function:"
   ]
  },
  {
   "cell_type": "code",
   "execution_count": 3,
   "metadata": {},
   "outputs": [],
   "source": [
    "dataframes = [demos_part_1, demos_part_2]\n",
    "demos_concat = pd.concat(dataframes)\n",
    "demos = demos_concat"
   ]
  },
  {
   "cell_type": "markdown",
   "metadata": {},
   "source": [
    "Demos and grenades give us a lot of usful information about when the round started, when it ended, the grenade location, etc. Some of this information we wont need for this analysis so we can remove it by subsetting our dataframes:"
   ]
  },
  {
   "cell_type": "code",
   "execution_count": 4,
   "metadata": {},
   "outputs": [],
   "source": [
    "demos = demos[['file','round','winner_side','round_type','ct_eq_val','t_eq_val']]\n",
    "grenades = grenades[['file','round','att_side','nade']]"
   ]
  },
  {
   "cell_type": "markdown",
   "metadata": {},
   "source": [
    "Next, we want to filter out rounds that were only eco rounds. We can do some data wrangling to filter our demos datafrane to only feature this with `query`"
   ]
  },
  {
   "cell_type": "code",
   "execution_count": 5,
   "metadata": {},
   "outputs": [
    {
     "data": {
      "text/html": [
       "<div>\n",
       "<style scoped>\n",
       "    .dataframe tbody tr th:only-of-type {\n",
       "        vertical-align: middle;\n",
       "    }\n",
       "\n",
       "    .dataframe tbody tr th {\n",
       "        vertical-align: top;\n",
       "    }\n",
       "\n",
       "    .dataframe thead th {\n",
       "        text-align: right;\n",
       "    }\n",
       "</style>\n",
       "<table border=\"1\" class=\"dataframe\">\n",
       "  <thead>\n",
       "    <tr style=\"text-align: right;\">\n",
       "      <th></th>\n",
       "      <th>file</th>\n",
       "      <th>round</th>\n",
       "      <th>winner_side</th>\n",
       "      <th>round_type</th>\n",
       "      <th>ct_eq_val</th>\n",
       "      <th>t_eq_val</th>\n",
       "    </tr>\n",
       "  </thead>\n",
       "  <tbody>\n",
       "    <tr>\n",
       "      <th>1</th>\n",
       "      <td>esea_match_13770997.dem</td>\n",
       "      <td>2</td>\n",
       "      <td>Terrorist</td>\n",
       "      <td>ECO</td>\n",
       "      <td>6300</td>\n",
       "      <td>19400</td>\n",
       "    </tr>\n",
       "    <tr>\n",
       "      <th>4</th>\n",
       "      <td>esea_match_13770997.dem</td>\n",
       "      <td>5</td>\n",
       "      <td>CounterTerrorist</td>\n",
       "      <td>ECO</td>\n",
       "      <td>5400</td>\n",
       "      <td>20550</td>\n",
       "    </tr>\n",
       "    <tr>\n",
       "      <th>6</th>\n",
       "      <td>esea_match_13770997.dem</td>\n",
       "      <td>7</td>\n",
       "      <td>Terrorist</td>\n",
       "      <td>ECO</td>\n",
       "      <td>3200</td>\n",
       "      <td>25300</td>\n",
       "    </tr>\n",
       "    <tr>\n",
       "      <th>7</th>\n",
       "      <td>esea_match_13770997.dem</td>\n",
       "      <td>8</td>\n",
       "      <td>CounterTerrorist</td>\n",
       "      <td>ECO</td>\n",
       "      <td>4850</td>\n",
       "      <td>27600</td>\n",
       "    </tr>\n",
       "    <tr>\n",
       "      <th>9</th>\n",
       "      <td>esea_match_13770997.dem</td>\n",
       "      <td>10</td>\n",
       "      <td>CounterTerrorist</td>\n",
       "      <td>ECO</td>\n",
       "      <td>32950</td>\n",
       "      <td>9950</td>\n",
       "    </tr>\n",
       "  </tbody>\n",
       "</table>\n",
       "</div>"
      ],
      "text/plain": [
       "                      file  round       winner_side round_type  ct_eq_val  \\\n",
       "1  esea_match_13770997.dem      2         Terrorist        ECO       6300   \n",
       "4  esea_match_13770997.dem      5  CounterTerrorist        ECO       5400   \n",
       "6  esea_match_13770997.dem      7         Terrorist        ECO       3200   \n",
       "7  esea_match_13770997.dem      8  CounterTerrorist        ECO       4850   \n",
       "9  esea_match_13770997.dem     10  CounterTerrorist        ECO      32950   \n",
       "\n",
       "   t_eq_val  \n",
       "1     19400  \n",
       "4     20550  \n",
       "6     25300  \n",
       "7     27600  \n",
       "9      9950  "
      ]
     },
     "execution_count": 5,
     "metadata": {},
     "output_type": "execute_result"
    }
   ],
   "source": [
    "demos = demos.query(\"round_type=='ECO'\")\n",
    "demos.head()"
   ]
  },
  {
   "cell_type": "markdown",
   "metadata": {},
   "source": [
    "Simillarly, we can filter the grenades dataset to feature rounds that high explosive grenades were thrown"
   ]
  },
  {
   "cell_type": "code",
   "execution_count": 6,
   "metadata": {},
   "outputs": [
    {
     "data": {
      "text/html": [
       "<div>\n",
       "<style scoped>\n",
       "    .dataframe tbody tr th:only-of-type {\n",
       "        vertical-align: middle;\n",
       "    }\n",
       "\n",
       "    .dataframe tbody tr th {\n",
       "        vertical-align: top;\n",
       "    }\n",
       "\n",
       "    .dataframe thead th {\n",
       "        text-align: right;\n",
       "    }\n",
       "</style>\n",
       "<table border=\"1\" class=\"dataframe\">\n",
       "  <thead>\n",
       "    <tr style=\"text-align: right;\">\n",
       "      <th></th>\n",
       "      <th>file</th>\n",
       "      <th>round</th>\n",
       "      <th>att_side</th>\n",
       "      <th>nade</th>\n",
       "    </tr>\n",
       "  </thead>\n",
       "  <tbody>\n",
       "    <tr>\n",
       "      <th>1</th>\n",
       "      <td>esea_match_13770997.dem</td>\n",
       "      <td>2</td>\n",
       "      <td>Terrorist</td>\n",
       "      <td>HE</td>\n",
       "    </tr>\n",
       "    <tr>\n",
       "      <th>2</th>\n",
       "      <td>esea_match_13770997.dem</td>\n",
       "      <td>2</td>\n",
       "      <td>CounterTerrorist</td>\n",
       "      <td>HE</td>\n",
       "    </tr>\n",
       "    <tr>\n",
       "      <th>3</th>\n",
       "      <td>esea_match_13770997.dem</td>\n",
       "      <td>2</td>\n",
       "      <td>CounterTerrorist</td>\n",
       "      <td>HE</td>\n",
       "    </tr>\n",
       "    <tr>\n",
       "      <th>7</th>\n",
       "      <td>esea_match_13770997.dem</td>\n",
       "      <td>2</td>\n",
       "      <td>Terrorist</td>\n",
       "      <td>HE</td>\n",
       "    </tr>\n",
       "    <tr>\n",
       "      <th>9</th>\n",
       "      <td>esea_match_13770997.dem</td>\n",
       "      <td>3</td>\n",
       "      <td>Terrorist</td>\n",
       "      <td>HE</td>\n",
       "    </tr>\n",
       "  </tbody>\n",
       "</table>\n",
       "</div>"
      ],
      "text/plain": [
       "                      file  round          att_side nade\n",
       "1  esea_match_13770997.dem      2         Terrorist   HE\n",
       "2  esea_match_13770997.dem      2  CounterTerrorist   HE\n",
       "3  esea_match_13770997.dem      2  CounterTerrorist   HE\n",
       "7  esea_match_13770997.dem      2         Terrorist   HE\n",
       "9  esea_match_13770997.dem      3         Terrorist   HE"
      ]
     },
     "execution_count": 6,
     "metadata": {},
     "output_type": "execute_result"
    }
   ],
   "source": [
    "grenades = grenades.query(\"nade=='HE'\")\n",
    "grenades.head()"
   ]
  },
  {
   "cell_type": "markdown",
   "metadata": {},
   "source": [
    "Now, we can combine the demos dataframe with the grenades dataframe to feature eco rounds where explosive grenades were and were not thrown. we can join two dataframes with pandas `merge` function. This is simillar to the SQL construct of of join, in this case it would be a left outer join"
   ]
  },
  {
   "cell_type": "code",
   "execution_count": 7,
   "metadata": {},
   "outputs": [
    {
     "data": {
      "text/html": [
       "<div>\n",
       "<style scoped>\n",
       "    .dataframe tbody tr th:only-of-type {\n",
       "        vertical-align: middle;\n",
       "    }\n",
       "\n",
       "    .dataframe tbody tr th {\n",
       "        vertical-align: top;\n",
       "    }\n",
       "\n",
       "    .dataframe thead th {\n",
       "        text-align: right;\n",
       "    }\n",
       "</style>\n",
       "<table border=\"1\" class=\"dataframe\">\n",
       "  <thead>\n",
       "    <tr style=\"text-align: right;\">\n",
       "      <th></th>\n",
       "      <th>file</th>\n",
       "      <th>round</th>\n",
       "      <th>winner_side</th>\n",
       "      <th>round_type</th>\n",
       "      <th>ct_eq_val</th>\n",
       "      <th>t_eq_val</th>\n",
       "      <th>att_side</th>\n",
       "      <th>nade</th>\n",
       "    </tr>\n",
       "  </thead>\n",
       "  <tbody>\n",
       "    <tr>\n",
       "      <th>0</th>\n",
       "      <td>esea_match_13770997.dem</td>\n",
       "      <td>2</td>\n",
       "      <td>Terrorist</td>\n",
       "      <td>ECO</td>\n",
       "      <td>6300</td>\n",
       "      <td>19400</td>\n",
       "      <td>Terrorist</td>\n",
       "      <td>HE</td>\n",
       "    </tr>\n",
       "    <tr>\n",
       "      <th>1</th>\n",
       "      <td>esea_match_13770997.dem</td>\n",
       "      <td>2</td>\n",
       "      <td>Terrorist</td>\n",
       "      <td>ECO</td>\n",
       "      <td>6300</td>\n",
       "      <td>19400</td>\n",
       "      <td>CounterTerrorist</td>\n",
       "      <td>HE</td>\n",
       "    </tr>\n",
       "    <tr>\n",
       "      <th>2</th>\n",
       "      <td>esea_match_13770997.dem</td>\n",
       "      <td>2</td>\n",
       "      <td>Terrorist</td>\n",
       "      <td>ECO</td>\n",
       "      <td>6300</td>\n",
       "      <td>19400</td>\n",
       "      <td>CounterTerrorist</td>\n",
       "      <td>HE</td>\n",
       "    </tr>\n",
       "    <tr>\n",
       "      <th>3</th>\n",
       "      <td>esea_match_13770997.dem</td>\n",
       "      <td>2</td>\n",
       "      <td>Terrorist</td>\n",
       "      <td>ECO</td>\n",
       "      <td>6300</td>\n",
       "      <td>19400</td>\n",
       "      <td>Terrorist</td>\n",
       "      <td>HE</td>\n",
       "    </tr>\n",
       "    <tr>\n",
       "      <th>4</th>\n",
       "      <td>esea_match_13770997.dem</td>\n",
       "      <td>5</td>\n",
       "      <td>CounterTerrorist</td>\n",
       "      <td>ECO</td>\n",
       "      <td>5400</td>\n",
       "      <td>20550</td>\n",
       "      <td>NaN</td>\n",
       "      <td>NaN</td>\n",
       "    </tr>\n",
       "  </tbody>\n",
       "</table>\n",
       "</div>"
      ],
      "text/plain": [
       "                      file  round       winner_side round_type  ct_eq_val  \\\n",
       "0  esea_match_13770997.dem      2         Terrorist        ECO       6300   \n",
       "1  esea_match_13770997.dem      2         Terrorist        ECO       6300   \n",
       "2  esea_match_13770997.dem      2         Terrorist        ECO       6300   \n",
       "3  esea_match_13770997.dem      2         Terrorist        ECO       6300   \n",
       "4  esea_match_13770997.dem      5  CounterTerrorist        ECO       5400   \n",
       "\n",
       "   t_eq_val          att_side nade  \n",
       "0     19400         Terrorist   HE  \n",
       "1     19400  CounterTerrorist   HE  \n",
       "2     19400  CounterTerrorist   HE  \n",
       "3     19400         Terrorist   HE  \n",
       "4     20550               NaN  NaN  "
      ]
     },
     "execution_count": 7,
     "metadata": {},
     "output_type": "execute_result"
    }
   ],
   "source": [
    "df = pd.merge(demos,grenades, how = 'left', left_on=['file','round'], right_on = ['file','round'])\n",
    "df.head()"
   ]
  },
  {
   "cell_type": "markdown",
   "metadata": {},
   "source": [
    "### Data transformation"
   ]
  },
  {
   "cell_type": "markdown",
   "metadata": {},
   "source": [
    "There are only two options a team can be: a terrorist or a counterterrorist. to make things easier for analysis later, lets code the team as a boolean value represented as an integer, 1 for terrorist and 0 for counterterrorist.\n",
    "\n",
    "we will also create another attribute called `did_eco_win` to denote weather or not the team on the eco won the round as well as an attributed called `did_eco_have_grenade`\n",
    "\n",
    "we can change the value of a partitual attribute for each entity with pandas `apply` function. `apply` takes a function argument that determines what is being applied to each row "
   ]
  },
  {
   "cell_type": "code",
   "execution_count": 8,
   "metadata": {},
   "outputs": [
    {
     "data": {
      "text/html": [
       "<div>\n",
       "<style scoped>\n",
       "    .dataframe tbody tr th:only-of-type {\n",
       "        vertical-align: middle;\n",
       "    }\n",
       "\n",
       "    .dataframe tbody tr th {\n",
       "        vertical-align: top;\n",
       "    }\n",
       "\n",
       "    .dataframe thead th {\n",
       "        text-align: right;\n",
       "    }\n",
       "</style>\n",
       "<table border=\"1\" class=\"dataframe\">\n",
       "  <thead>\n",
       "    <tr style=\"text-align: right;\">\n",
       "      <th></th>\n",
       "      <th>file</th>\n",
       "      <th>round</th>\n",
       "      <th>winner_side</th>\n",
       "      <th>round_type</th>\n",
       "      <th>ct_eq_val</th>\n",
       "      <th>t_eq_val</th>\n",
       "      <th>att_side</th>\n",
       "      <th>nade</th>\n",
       "      <th>did_eco_win</th>\n",
       "      <th>did_eco_have_grenade</th>\n",
       "    </tr>\n",
       "  </thead>\n",
       "  <tbody>\n",
       "    <tr>\n",
       "      <th>0</th>\n",
       "      <td>esea_match_13770997.dem</td>\n",
       "      <td>2</td>\n",
       "      <td>1</td>\n",
       "      <td>ECO</td>\n",
       "      <td>6300</td>\n",
       "      <td>19400</td>\n",
       "      <td>Terrorist</td>\n",
       "      <td>HE</td>\n",
       "      <td>0</td>\n",
       "      <td>0</td>\n",
       "    </tr>\n",
       "    <tr>\n",
       "      <th>1</th>\n",
       "      <td>esea_match_13770997.dem</td>\n",
       "      <td>2</td>\n",
       "      <td>1</td>\n",
       "      <td>ECO</td>\n",
       "      <td>6300</td>\n",
       "      <td>19400</td>\n",
       "      <td>CounterTerrorist</td>\n",
       "      <td>HE</td>\n",
       "      <td>0</td>\n",
       "      <td>1</td>\n",
       "    </tr>\n",
       "    <tr>\n",
       "      <th>2</th>\n",
       "      <td>esea_match_13770997.dem</td>\n",
       "      <td>2</td>\n",
       "      <td>1</td>\n",
       "      <td>ECO</td>\n",
       "      <td>6300</td>\n",
       "      <td>19400</td>\n",
       "      <td>CounterTerrorist</td>\n",
       "      <td>HE</td>\n",
       "      <td>0</td>\n",
       "      <td>1</td>\n",
       "    </tr>\n",
       "    <tr>\n",
       "      <th>3</th>\n",
       "      <td>esea_match_13770997.dem</td>\n",
       "      <td>2</td>\n",
       "      <td>1</td>\n",
       "      <td>ECO</td>\n",
       "      <td>6300</td>\n",
       "      <td>19400</td>\n",
       "      <td>Terrorist</td>\n",
       "      <td>HE</td>\n",
       "      <td>0</td>\n",
       "      <td>0</td>\n",
       "    </tr>\n",
       "    <tr>\n",
       "      <th>4</th>\n",
       "      <td>esea_match_13770997.dem</td>\n",
       "      <td>5</td>\n",
       "      <td>0</td>\n",
       "      <td>ECO</td>\n",
       "      <td>5400</td>\n",
       "      <td>20550</td>\n",
       "      <td>NaN</td>\n",
       "      <td>NaN</td>\n",
       "      <td>1</td>\n",
       "      <td>0</td>\n",
       "    </tr>\n",
       "  </tbody>\n",
       "</table>\n",
       "</div>"
      ],
      "text/plain": [
       "                      file  round  winner_side round_type  ct_eq_val  \\\n",
       "0  esea_match_13770997.dem      2            1        ECO       6300   \n",
       "1  esea_match_13770997.dem      2            1        ECO       6300   \n",
       "2  esea_match_13770997.dem      2            1        ECO       6300   \n",
       "3  esea_match_13770997.dem      2            1        ECO       6300   \n",
       "4  esea_match_13770997.dem      5            0        ECO       5400   \n",
       "\n",
       "   t_eq_val          att_side nade  did_eco_win  did_eco_have_grenade  \n",
       "0     19400         Terrorist   HE            0                     0  \n",
       "1     19400  CounterTerrorist   HE            0                     1  \n",
       "2     19400  CounterTerrorist   HE            0                     1  \n",
       "3     19400         Terrorist   HE            0                     0  \n",
       "4     20550               NaN  NaN            1                     0  "
      ]
     },
     "execution_count": 8,
     "metadata": {},
     "output_type": "execute_result"
    }
   ],
   "source": [
    "\n",
    "def did_eco_win(x):\n",
    "    # If the winner side is 0 (counterterrorist), and countererrorists are on the eco\n",
    "    if (x['winner_side'] == 0 and x['ct_eq_val'] < x['t_eq_val']):\n",
    "        return 1\n",
    "    # If the winner side is 1 (terrorist), and terrorists are on the eco\n",
    "    if (x['winner_side'] == 1 and x['ct_eq_val'] > x['t_eq_val']):\n",
    "        return 1\n",
    "    return 0\n",
    "\n",
    "def did_eco_have_grenade(x):\n",
    "    # If the team throwing the grenade is on CounterTerrorist side, and Counterterrorists are on the eco\n",
    "    if (x['att_side'] == 'CounterTerrorist' and x['ct_eq_val'] < x['t_eq_val']):\n",
    "        return 1\n",
    "    #If the team throwing the grenade is on Terrorist side, and Terrorist are on the eco\n",
    "    if (x['att_side'] == 'Terrorist' and x['ct_eq_val'] > x['t_eq_val']):\n",
    "        return 1\n",
    "    return 0\n",
    "    \n",
    "\n",
    "\n",
    "\n",
    "df['winner_side'] = df.apply( (lambda x : 0 if 'CounterTerrorist' in x['winner_side'] else 1)  ,axis=1)\n",
    "\n",
    "df['did_eco_win'] = 0\n",
    "df['did_eco_win'] = df.apply(did_eco_win, axis = 1)\n",
    "\n",
    "df['did_eco_have_grenade'] = 0\n",
    "df['did_eco_have_grenade'] = df.apply(did_eco_have_grenade, axis = 1)\n",
    "\n",
    "df.head()\n"
   ]
  },
  {
   "cell_type": "markdown",
   "metadata": {},
   "source": [
    "Lastly, we remove duplicate rounds by with `grouby` followed by `aggregate`"
   ]
  },
  {
   "cell_type": "code",
   "execution_count": 9,
   "metadata": {},
   "outputs": [
    {
     "data": {
      "text/html": [
       "<div>\n",
       "<style scoped>\n",
       "    .dataframe tbody tr th:only-of-type {\n",
       "        vertical-align: middle;\n",
       "    }\n",
       "\n",
       "    .dataframe tbody tr th {\n",
       "        vertical-align: top;\n",
       "    }\n",
       "\n",
       "    .dataframe thead th {\n",
       "        text-align: right;\n",
       "    }\n",
       "</style>\n",
       "<table border=\"1\" class=\"dataframe\">\n",
       "  <thead>\n",
       "    <tr style=\"text-align: right;\">\n",
       "      <th></th>\n",
       "      <th>file</th>\n",
       "      <th>round</th>\n",
       "      <th>winner_side</th>\n",
       "      <th>ct_eq_val</th>\n",
       "      <th>t_eq_val</th>\n",
       "      <th>did_eco_win</th>\n",
       "      <th>did_eco_have_grenade</th>\n",
       "    </tr>\n",
       "  </thead>\n",
       "  <tbody>\n",
       "    <tr>\n",
       "      <th>0</th>\n",
       "      <td>esea_match_13770997.dem</td>\n",
       "      <td>2</td>\n",
       "      <td>1</td>\n",
       "      <td>6300</td>\n",
       "      <td>19400</td>\n",
       "      <td>0</td>\n",
       "      <td>1</td>\n",
       "    </tr>\n",
       "    <tr>\n",
       "      <th>1</th>\n",
       "      <td>esea_match_13770997.dem</td>\n",
       "      <td>5</td>\n",
       "      <td>0</td>\n",
       "      <td>5400</td>\n",
       "      <td>20550</td>\n",
       "      <td>1</td>\n",
       "      <td>0</td>\n",
       "    </tr>\n",
       "    <tr>\n",
       "      <th>2</th>\n",
       "      <td>esea_match_13770997.dem</td>\n",
       "      <td>7</td>\n",
       "      <td>1</td>\n",
       "      <td>3200</td>\n",
       "      <td>25300</td>\n",
       "      <td>0</td>\n",
       "      <td>0</td>\n",
       "    </tr>\n",
       "    <tr>\n",
       "      <th>3</th>\n",
       "      <td>esea_match_13770997.dem</td>\n",
       "      <td>8</td>\n",
       "      <td>0</td>\n",
       "      <td>4850</td>\n",
       "      <td>27600</td>\n",
       "      <td>1</td>\n",
       "      <td>0</td>\n",
       "    </tr>\n",
       "    <tr>\n",
       "      <th>4</th>\n",
       "      <td>esea_match_13770997.dem</td>\n",
       "      <td>10</td>\n",
       "      <td>0</td>\n",
       "      <td>32950</td>\n",
       "      <td>9950</td>\n",
       "      <td>0</td>\n",
       "      <td>0</td>\n",
       "    </tr>\n",
       "  </tbody>\n",
       "</table>\n",
       "</div>"
      ],
      "text/plain": [
       "                      file  round  winner_side  ct_eq_val  t_eq_val  \\\n",
       "0  esea_match_13770997.dem      2            1       6300     19400   \n",
       "1  esea_match_13770997.dem      5            0       5400     20550   \n",
       "2  esea_match_13770997.dem      7            1       3200     25300   \n",
       "3  esea_match_13770997.dem      8            0       4850     27600   \n",
       "4  esea_match_13770997.dem     10            0      32950      9950   \n",
       "\n",
       "   did_eco_win  did_eco_have_grenade  \n",
       "0            0                     1  \n",
       "1            1                     0  \n",
       "2            0                     0  \n",
       "3            1                     0  \n",
       "4            0                     0  "
      ]
     },
     "execution_count": 9,
     "metadata": {},
     "output_type": "execute_result"
    }
   ],
   "source": [
    "\n",
    "df = df.groupby(['file','round','winner_side','ct_eq_val','t_eq_val'])\n",
    "df = df.agg({'did_eco_win' :'max','did_eco_have_grenade' :'max' })\n",
    "df = df.reset_index()\n",
    "df.head()\n",
    "\n"
   ]
  },
  {
   "cell_type": "markdown",
   "metadata": {},
   "source": [
    "## Exploratory Data Analysis <a class=\"anchor\" id=\"Eda\"></a>"
   ]
  },
  {
   "cell_type": "markdown",
   "metadata": {},
   "source": [
    "The equipment values of each team are a number that displays how many credits the team's combined guns, grenates, utility, etc are worth. This gives an indication of how much each team spends vs an ECO or while ECO'ing.   "
   ]
  },
  {
   "cell_type": "markdown",
   "metadata": {},
   "source": [
    "First lets find out exacly which team was the team on ECO"
   ]
  },
  {
   "cell_type": "code",
   "execution_count": 10,
   "metadata": {},
   "outputs": [
    {
     "data": {
      "text/html": [
       "<div>\n",
       "<style scoped>\n",
       "    .dataframe tbody tr th:only-of-type {\n",
       "        vertical-align: middle;\n",
       "    }\n",
       "\n",
       "    .dataframe tbody tr th {\n",
       "        vertical-align: top;\n",
       "    }\n",
       "\n",
       "    .dataframe thead th {\n",
       "        text-align: right;\n",
       "    }\n",
       "</style>\n",
       "<table border=\"1\" class=\"dataframe\">\n",
       "  <thead>\n",
       "    <tr style=\"text-align: right;\">\n",
       "      <th></th>\n",
       "      <th>file</th>\n",
       "      <th>round</th>\n",
       "      <th>winner_side</th>\n",
       "      <th>ct_eq_val</th>\n",
       "      <th>t_eq_val</th>\n",
       "      <th>did_eco_win</th>\n",
       "      <th>did_eco_have_grenade</th>\n",
       "      <th>eco_eq_val</th>\n",
       "      <th>eco_equitment_val</th>\n",
       "      <th>noneco_equitment_val</th>\n",
       "    </tr>\n",
       "  </thead>\n",
       "  <tbody>\n",
       "    <tr>\n",
       "      <th>0</th>\n",
       "      <td>esea_match_13770997.dem</td>\n",
       "      <td>2</td>\n",
       "      <td>1</td>\n",
       "      <td>6300</td>\n",
       "      <td>19400</td>\n",
       "      <td>0</td>\n",
       "      <td>1</td>\n",
       "      <td>0</td>\n",
       "      <td>6300</td>\n",
       "      <td>19400</td>\n",
       "    </tr>\n",
       "    <tr>\n",
       "      <th>1</th>\n",
       "      <td>esea_match_13770997.dem</td>\n",
       "      <td>5</td>\n",
       "      <td>0</td>\n",
       "      <td>5400</td>\n",
       "      <td>20550</td>\n",
       "      <td>1</td>\n",
       "      <td>0</td>\n",
       "      <td>0</td>\n",
       "      <td>5400</td>\n",
       "      <td>20550</td>\n",
       "    </tr>\n",
       "    <tr>\n",
       "      <th>2</th>\n",
       "      <td>esea_match_13770997.dem</td>\n",
       "      <td>7</td>\n",
       "      <td>1</td>\n",
       "      <td>3200</td>\n",
       "      <td>25300</td>\n",
       "      <td>0</td>\n",
       "      <td>0</td>\n",
       "      <td>0</td>\n",
       "      <td>3200</td>\n",
       "      <td>25300</td>\n",
       "    </tr>\n",
       "    <tr>\n",
       "      <th>3</th>\n",
       "      <td>esea_match_13770997.dem</td>\n",
       "      <td>8</td>\n",
       "      <td>0</td>\n",
       "      <td>4850</td>\n",
       "      <td>27600</td>\n",
       "      <td>1</td>\n",
       "      <td>0</td>\n",
       "      <td>0</td>\n",
       "      <td>4850</td>\n",
       "      <td>27600</td>\n",
       "    </tr>\n",
       "    <tr>\n",
       "      <th>4</th>\n",
       "      <td>esea_match_13770997.dem</td>\n",
       "      <td>10</td>\n",
       "      <td>0</td>\n",
       "      <td>32950</td>\n",
       "      <td>9950</td>\n",
       "      <td>0</td>\n",
       "      <td>0</td>\n",
       "      <td>0</td>\n",
       "      <td>9950</td>\n",
       "      <td>32950</td>\n",
       "    </tr>\n",
       "  </tbody>\n",
       "</table>\n",
       "</div>"
      ],
      "text/plain": [
       "                      file  round  winner_side  ct_eq_val  t_eq_val  \\\n",
       "0  esea_match_13770997.dem      2            1       6300     19400   \n",
       "1  esea_match_13770997.dem      5            0       5400     20550   \n",
       "2  esea_match_13770997.dem      7            1       3200     25300   \n",
       "3  esea_match_13770997.dem      8            0       4850     27600   \n",
       "4  esea_match_13770997.dem     10            0      32950      9950   \n",
       "\n",
       "   did_eco_win  did_eco_have_grenade  eco_eq_val  eco_equitment_val  \\\n",
       "0            0                     1           0               6300   \n",
       "1            1                     0           0               5400   \n",
       "2            0                     0           0               3200   \n",
       "3            1                     0           0               4850   \n",
       "4            0                     0           0               9950   \n",
       "\n",
       "   noneco_equitment_val  \n",
       "0                 19400  \n",
       "1                 20550  \n",
       "2                 25300  \n",
       "3                 27600  \n",
       "4                 32950  "
      ]
     },
     "execution_count": 10,
     "metadata": {},
     "output_type": "execute_result"
    }
   ],
   "source": [
    "\n",
    "eda = df\n",
    "eda['eco_eq_val'] = 0\n",
    "eda['eco_equipment_val'] = df.apply(lambda x : min(x['ct_eq_val'],x['t_eq_val']), axis = 1)\n",
    "\n",
    "eda['noneco_equipment_val'] = 0\n",
    "eda['noneco_equipment_val'] = df.apply(lambda x : max(x['ct_eq_val'],x['t_eq_val']), axis = 1)\n",
    "\n",
    "eda.head()\n"
   ]
  },
  {
   "cell_type": "markdown",
   "metadata": {},
   "source": [
    "We will import <a href=\"https://plotnine.readthedocs.io/en/stable/\"> plotnine</a>, a plotting system for Python to plot our data "
   ]
  },
  {
   "cell_type": "code",
   "execution_count": 11,
   "metadata": {},
   "outputs": [],
   "source": [
    "from plotnine import *\n",
    "import warnings\n",
    "warnings.filterwarnings(\"ignore\")"
   ]
  },
  {
   "cell_type": "markdown",
   "metadata": {},
   "source": [
    "Lets use ggplot to plot a histogram in order to show the distribution of eco equitment values"
   ]
  },
  {
   "cell_type": "code",
   "execution_count": 12,
   "metadata": {},
   "outputs": [
    {
     "data": {
      "image/png": "[encoded data removed]",
      "text/plain": [
       "<Figure size 640x480 with 1 Axes>"
      ]
     },
     "metadata": {},
     "output_type": "display_data"
    },
    {
     "data": {
      "text/plain": [
       "<ggplot: (18270997)>"
      ]
     },
     "execution_count": 12,
     "metadata": {},
     "output_type": "execute_result"
    }
   ],
   "source": [
    "(ggplot(eda, aes(x='eco_equipment_val')) \n",
    "    + geom_histogram()\n",
    "    + labs(title='Distribution of eco round total equipment value',\n",
    "          x='team equitment value',\n",
    "          y='count'))"
   ]
  },
  {
   "cell_type": "markdown",
   "metadata": {},
   "source": [
    "The plot above shows the equitment value centered around 4500 with a slight spread just past 10,000. This makes sence becuase a team with 5 usps/glocks (the starting weapon) would have a team equipment value of 4000, just under the center of the dataset."
   ]
  },
  {
   "cell_type": "code",
   "execution_count": 13,
   "metadata": {},
   "outputs": [
    {
     "data": {
      "image/png": "[encoded data removed]",
      "text/plain": [
       "<Figure size 640x480 with 1 Axes>"
      ]
     },
     "metadata": {},
     "output_type": "display_data"
    },
    {
     "data": {
      "text/plain": [
       "<ggplot: (18271033)>"
      ]
     },
     "execution_count": 13,
     "metadata": {},
     "output_type": "execute_result"
    }
   ],
   "source": [
    "(ggplot(eda, aes(x='noneco_equipment_val')) \n",
    "    + geom_histogram()\n",
    "    + labs(title='Distribution of equipment value vs an eco',\n",
    "              x='team equitment value',\n",
    "              y='count'))"
   ]
  },
  {
   "cell_type": "markdown",
   "metadata": {},
   "source": [
    "The plot above shows the equipment value centered at around 20,500, it'd be interesting to see this distribution vs the typical distibution of equitment value\n",
    "\n",
    "Lets plot the typical distribution:"
   ]
  },
  {
   "cell_type": "code",
   "execution_count": 14,
   "metadata": {},
   "outputs": [
    {
     "data": {
      "image/png": "[encoded data removed]",
      "text/plain": [
       "<Figure size 640x480 with 1 Axes>"
      ]
     },
     "metadata": {},
     "output_type": "display_data"
    },
    {
     "data": {
      "text/plain": [
       "<ggplot: (18271055)>"
      ]
     },
     "execution_count": 14,
     "metadata": {},
     "output_type": "execute_result"
    }
   ],
   "source": [
    "(ggplot(demos_concat, aes(x='ct_eq_val')) \n",
    "    + geom_histogram()\n",
    "    + labs(title='Distribution of general equipment value',\n",
    "              x='team equitment value',\n",
    "              y='count'))"
   ]
  },
  {
   "cell_type": "markdown",
   "metadata": {},
   "source": [
    "The left hand of the above plot probably refers to the eco rounds/pistol rounds where little to no credits are spent. The right hand probably refers to a typical gun round "
   ]
  },
  {
   "cell_type": "markdown",
   "metadata": {},
   "source": [
    "## Hypothesis Testing <a class=\"anchor\" id=\"Hypothesis\"></a>"
   ]
  },
  {
   "cell_type": "markdown",
   "metadata": {},
   "source": [
    "In this experiment we will be looking at whether using high explosive grenades during an ECO round increases the likelihood for the team on the ECO to win that round.\n",
    "\n",
    "In order to find this out, we need to first estimate the  Eco round win rate without the use of high explosive grenades "
   ]
  },
  {
   "cell_type": "code",
   "execution_count": 18,
   "metadata": {},
   "outputs": [
    {
     "name": "stdout",
     "output_type": "stream",
     "text": [
      "The number of eco rounds without a high explosive grenade thrown is: 127895\n",
      "The number of eco rounds won without a high explosive grenade thrown is: 21560\n",
      "The sample mean for an eco win without a high explosive grenade thrown is : 0.168575784823488\n"
     ]
    }
   ],
   "source": [
    "no_grenades = df.query(\"did_eco_have_grenade==0\")\n",
    "\n",
    "num_elements = no_grenades.count().tolist()[0]\n",
    "print(\"The number of eco rounds without a high explosive grenade thrown is: \" + str(num_elements))\n",
    "\n",
    "no_grenades_win = no_grenades.query(\"did_eco_win==1\")\n",
    "num_eco_won = no_grenades_win.count().tolist()[0]\n",
    "print(\"The number of eco rounds won without a high explosive grenade thrown is: \" + str(num_eco_won))\n",
    "\n",
    "sample_mean_no_grenades =  num_eco_won/num_elements\n",
    "\n",
    "print(\"The sample mean for an eco win without a high explosive grenade thrown is : \" + str(sample_mean_no_grenades))\n"
   ]
  },
  {
   "cell_type": "markdown",
   "metadata": {},
   "source": [
    "From the Central limit theorem: given a suffiently large sample size with independent identically distributed samples, the sample mean will approximate the population mean, or the known eco win rate. The sample size for this experiment is 127895, which is sufficent<br />\n",
    "i.e<br />\n",
    "$\\hat{p_A}$ = 0.16879 ~ ${p_A}$\n"
   ]
  },
  {
   "cell_type": "markdown",
   "metadata": {},
   "source": [
    "Now, we can estimate the Eco wound win rate with the use of high explosive grenades"
   ]
  },
  {
   "cell_type": "code",
   "execution_count": 19,
   "metadata": {},
   "outputs": [
    {
     "name": "stdout",
     "output_type": "stream",
     "text": [
      "The number of eco rounds with a high explosive grenade thrown is: 718\n",
      "The number of eco rounds won with a high explosive grenade thrown is: 152\n",
      "The sample mean for an eco win with a high explosive grenade thrown is : 0.2116991643454039\n"
     ]
    }
   ],
   "source": [
    "grenades = df.query(\"did_eco_have_grenade==1\")\n",
    "\n",
    "num_elements = grenades.count().tolist()[0]\n",
    "print(\"The number of eco rounds with a high explosive grenade thrown is: \" + str(num_elements))\n",
    "\n",
    "grenades_win = grenades.query(\"did_eco_win==1\")\n",
    "num_eco_won = grenades_win.count().tolist()[0]\n",
    "print(\"The number of eco rounds won with a high explosive grenade thrown is: \" + str(num_eco_won))\n",
    "\n",
    "sample_mean_grenades =  num_eco_won/num_elements\n",
    "\n",
    "print(\"The sample mean for an eco win with a high explosive grenade thrown is : \" + str(sample_mean_grenades))"
   ]
  },
  {
   "cell_type": "markdown",
   "metadata": {},
   "source": [
    "$\\hat{p_B}$ = 21170"
   ]
  },
  {
   "cell_type": "markdown",
   "metadata": {},
   "source": [
    "Now, lets state our null hypothesis we are testing for:<br /> <br />\n",
    "${H_0}$: Using a high explosive grenade during an ECO round will not improve the likelihood of the ECO team winning that round<br />\n",
    "\n",
    "for this experiment we will use rejection level $\\alpha = 0.05$\n",
    "\n",
    "To Test this, we need to derive the Expected value for the population mean and derive the population variance:<br /><br />\n",
    "${E[\\bar{X}] = E[(1/n)\\sum_{i=1}^{n}X_i]}$<br />\n",
    "${ = (1/n)E[\\sum_{i=1}^{n}X_i]}$<br />\n",
    "${ = (1/n)(np_A)}$<br />\n",
    "${ = p_A}$\n",
    "<br /> <br />\n",
    "$var(\\bar{X})$ = $1/n^2(var(\\sum{}x))$\n",
    "<br />= $1/n^2 np(1-p)$ \n",
    "<br />= $ (p(1-p))/n$\n",
    "<br />\n",
    "\n",
    "From these derivations we can deduce:<br />\n",
    "$E[\\bar{X}] = 0.16879$<br />\n",
    "$var(\\bar{X}) = (0.16879(1-0.16879)) / 718 = .000195$\n",
    "<br />\n",
    "<br />\n",
    "<br />\n",
    "We can import 2 libraries to test our null hypothesis:\n",
    "* <a href=\"https://www.scipy.org/\"> scipy</a>: Python-based ecosystem of open-source software for mathematics, science, and engineering\n",
    "* <a href=\"https://docs.python.org/3/library/math.html\"> math </a>\n"
   ]
  },
  {
   "cell_type": "code",
   "execution_count": 29,
   "metadata": {},
   "outputs": [],
   "source": [
    "from scipy import stats\n",
    "from scipy.stats import norm\n",
    "import math"
   ]
  },
  {
   "cell_type": "markdown",
   "metadata": {},
   "source": [
    "We wil test our null hypothesis using the cumlutive distribution function"
   ]
  },
  {
   "cell_type": "code",
   "execution_count": 30,
   "metadata": {},
   "outputs": [
    {
     "data": {
      "text/plain": [
       "0.001071683632650977"
      ]
     },
     "execution_count": 30,
     "metadata": {},
     "output_type": "execute_result"
    }
   ],
   "source": [
    "standard_devation = math.sqrt((0.16879*(1-0.16879)) / 718)\n",
    "expected_value_mean = 0.16879\n",
    "p_b = sample_mean_grenades\n",
    "p = 1 - norm.cdf(p_b,expected_value_mean,standard_devation)\n",
    "p"
   ]
  },
  {
   "cell_type": "markdown",
   "metadata": {},
   "source": [
    "We do  reject the null hypothesis here, because P($\\bar{X}$ >= $p_b$) ~ .00107, which is below our rejection maximum, .05\n",
    "<br /> \n",
    "\n",
    "With 95% confidence, we can say that using a High explosive grenade while on an ECO will improve the chances of winning that round"
   ]
  },
  {
   "cell_type": "markdown",
   "metadata": {},
   "source": [
    "## Regression  <a class=\"anchor\" id=\"Regression\"></a>"
   ]
  },
  {
   "cell_type": "markdown",
   "metadata": {},
   "source": [
    "In this regression analysis, we want to look at the relationship of the winning team's equipment value conditioned on the losing team's equitment value.  "
   ]
  },
  {
   "cell_type": "code",
   "execution_count": null,
   "metadata": {},
   "outputs": [],
   "source": []
  },
  {
   "cell_type": "code",
   "execution_count": null,
   "metadata": {},
   "outputs": [],
   "source": []
  },
  {
   "cell_type": "code",
   "execution_count": null,
   "metadata": {},
   "outputs": [],
   "source": []
  },
  {
   "cell_type": "code",
   "execution_count": null,
   "metadata": {},
   "outputs": [],
   "source": []
  },
  {
   "cell_type": "code",
   "execution_count": null,
   "metadata": {},
   "outputs": [],
   "source": []
  },
  {
   "cell_type": "code",
   "execution_count": null,
   "metadata": {},
   "outputs": [],
   "source": []
  },
  {
   "cell_type": "code",
   "execution_count": null,
   "metadata": {},
   "outputs": [],
   "source": []
  },
  {
   "cell_type": "code",
   "execution_count": null,
   "metadata": {},
   "outputs": [],
   "source": []
  },
  {
   "cell_type": "code",
   "execution_count": null,
   "metadata": {},
   "outputs": [],
   "source": []
  },
  {
   "cell_type": "code",
   "execution_count": null,
   "metadata": {},
   "outputs": [],
   "source": []
  },
  {
   "cell_type": "markdown",
   "metadata": {},
   "source": [
    "## Conclusion <a class=\"anchor\" id=\"Reflect\"></a>\n",
    "\n",
    "<b>Interpreting the results</b><br />\n",
    "intuitively, it would make sense as to why using high explosive grenades would improve the likelihood of winning a round. Its an easy way to deal damage without having to engage in a gunfight, and a pistol would lose that fight 9 times out of 10. However, its important that we quantify this difference and ensure that our intuition isnt leading us astray. I can just as easily envision a scenerio where buying HE grenades would lower the chances. stacking HE grenades on ECO rounds can lead to unfavorable outcomes. For example on dust 2, grenade stacking long doors while the enemy rushes B or holds for a push outside of long doors. This scenerio comes at the detrement of the team buying the grenades, because it only hurts them in that case. This is why hypothesis testing and data analysis is important, so we can draw conclusions based on concrete data, rather than intuition.\n",
    "\n",
    "\n",
    "<b>concerns about the data</b><br />\n",
    "The data gathered was from Semi professional ESEA Advanced games. These semi professional games can vary significaly depending on the skill level of the teams and can be  unpredictible. This data is by and large the most readily avaible and the breadth of data available leads for a more consistent analysis.\n",
    "\n",
    "What consituded an Eco round vs a force buy was entirely at the discression of the data collector on kaggle.com. It could be the case that some of the force buys would have been considered an eco under different critiera, or vice versa. However, this dataset has over 3,000 downloads and is one of the most popular csgo datasets on kaggle so i trust the critera set by the data collector."
   ]
  }
 ],
 "metadata": {
  "kernelspec": {
   "display_name": "Python 3",
   "language": "python",
   "name": "python3"
  },
  "language_info": {
   "codemirror_mode": {
    "name": "ipython",
    "version": 3
   },
   "file_extension": ".py",
   "mimetype": "text/x-python",
   "name": "python",
   "nbconvert_exporter": "python",
   "pygments_lexer": "ipython3",
   "version": "3.6.5"
  },
  "toc": {
   "base_numbering": 1,
   "nav_menu": {},
   "number_sections": false,
   "sideBar": true,
   "skip_h1_title": false,
   "title_cell": "Table of Contents",
   "title_sidebar": "Contents",
   "toc_cell": false,
   "toc_position": {},
   "toc_section_display": true,
   "toc_window_display": true
  }
 },
 "nbformat": 4,
 "nbformat_minor": 4
}

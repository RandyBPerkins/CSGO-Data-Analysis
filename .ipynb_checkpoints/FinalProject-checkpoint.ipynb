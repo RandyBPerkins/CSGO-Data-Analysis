{
 "cells": [
  {
   "cell_type": "markdown",
   "metadata": {},
   "source": [
    "# Counterstrike Eco Round Win Analysis"
   ]
  },
  {
   "cell_type": "markdown",
   "metadata": {},
   "source": [
    "Randy Perkins<br />\n",
    "CMSC320<br />\n",
    "Final Project<br />\n",
    "May 10 2020"
   ]
  },
  {
   "cell_type": "markdown",
   "metadata": {},
   "source": [
    "## Table of contents\n",
    "* [Introduction](#Intro)\n",
    "\n",
    "* [Data](#Data)\n",
    "* [Reflection and concerns about the data](#Reflect)"
   ]
  },
  {
   "cell_type": "markdown",
   "metadata": {},
   "source": [
    "## Introduction <a class=\"anchor\" id=\"Intro\"></a>"
   ]
  },
  {
   "cell_type": "markdown",
   "metadata": {},
   "source": [
    "Counterstrike: Global Offensive (CS:GO) is a 5 vs 5 multiplayer online shooter where there are two teams: terrorists and counter terrorists. The goal of the terrorists are to detonate and explosive device and the goal of the counter terrorists is to stop the terrorists from detonating the device. The terrorists win a round by either eliminating all counter terrorists or sucessfully planting and detonating the device before a pre set timer runs out. the counter terrorists win a round by either eliminating all terrorists before the device is planted, or defusing the explosive device."
   ]
  },
  {
   "cell_type": "markdown",
   "metadata": {},
   "source": [
    "Counterstrike has this conception of an \"economy\". Every time a player eliminates someone, defuses/plants an explosive device, or wins/loses a round they player gets some amount of credits. Both teams can purchase weapons, armor, utility, and grenades at the beginning of each round with the credits they've accumlated in the rounds prior. "
   ]
  },
  {
   "cell_type": "markdown",
   "metadata": {},
   "source": [
    "Lastly, there is a term nammed \"Eco round\" for when one team loses a round and has insuffencient credits to buy approprate weapons. This round is a significant disadvantange for the team on the eco and requires clevar tactics to win.\n",
    "\n",
    "In this analysis we will look at the how the use of high explosive grenades in eco rounds by the team with less credits impact that team's ability to win that round. \n",
    "\n",
    "NOTE: I am not distinguishing Eco rounds from Force Buy rounds because that distinction is not necessary for the purpose of this analysis"
   ]
  },
  {
   "cell_type": "markdown",
   "metadata": {},
   "source": [
    "<img src=\"csgo.jpg\">"
   ]
  },
  {
   "cell_type": "markdown",
   "metadata": {},
   "source": [
    "## Data<a class=\"anchor\" id=\"Data\"></a>\n",
    "\n",
    "We begin by importing a Python package to help load and wrangle the data\n",
    "* <a href=\"https://pandas.pydata.org/\"> pandas</a>: an open source data analysis and manipulation tool to view and edit relational data\n"
   ]
  },
  {
   "cell_type": "code",
   "execution_count": 2,
   "metadata": {},
   "outputs": [],
   "source": [
    "import pandas as pd"
   ]
  },
  {
   "cell_type": "markdown",
   "metadata": {},
   "source": [
    "### Counterstrike Data\n",
    "The Counterstrike data is gathered from kaggle, a machine learning and dara science community with resources for data science (<a href = \"https://www.kaggle.com/skihikingkevin/csgo-matchmaking-damage\">CS:GO Competitive Matchmaking Data</a>) </br >\n"
   ]
  },
  {
   "cell_type": "markdown",
   "metadata": {},
   "source": [
    "## Reflection and concerns about the data <a class=\"anchor\" id=\"Reflect\"></a>\n",
    "1. The data gathered was from matchmaking games. Matchmaking games can vary significaly and can be highly unpredictible. Matchmaking data is by and large the most readily avaible and the breadth of data available leads for a more consistent analysis\n",
    "2. Eco rounds where only taken from the second round of a game because they were guarenteed to be eco rounds. In reality, there are multiple eco rounds throughout the game, however determining which rounds where eco rounds where outside of the scope of this dataset, because no information on the player/team's economy is given "
   ]
  },
  {
   "cell_type": "markdown",
   "metadata": {},
   "source": []
  },
  {
   "cell_type": "code",
   "execution_count": null,
   "metadata": {},
   "outputs": [],
   "source": []
  }
 ],
 "metadata": {
  "kernelspec": {
   "display_name": "Python 3",
   "language": "python",
   "name": "python3"
  },
  "language_info": {
   "codemirror_mode": {
    "name": "ipython",
    "version": 3
   },
   "file_extension": ".py",
   "mimetype": "text/x-python",
   "name": "python",
   "nbconvert_exporter": "python",
   "pygments_lexer": "ipython3",
   "version": "3.6.5"
  },
  "toc": {
   "base_numbering": 1,
   "nav_menu": {},
   "number_sections": false,
   "sideBar": true,
   "skip_h1_title": false,
   "title_cell": "Table of Contents",
   "title_sidebar": "Contents",
   "toc_cell": false,
   "toc_position": {},
   "toc_section_display": true,
   "toc_window_display": true
  }
 },
 "nbformat": 4,
 "nbformat_minor": 4
}
